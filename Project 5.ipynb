{
 "cells": [
  {
   "cell_type": "code",
   "execution_count": 7,
   "metadata": {},
   "outputs": [
    {
     "name": "stdout",
     "output_type": "stream",
     "text": [
      "Part a. \n",
      "\n",
      "Training Data Set\n",
      "            x           y\n",
      "0   6.357630   50.419462\n",
      "1   1.433672   12.055415\n",
      "2   0.722217   10.521598\n",
      "3   4.615777   31.305399\n",
      "4   6.633628   54.005016\n",
      "5   3.077278   19.469637\n",
      "6   9.769170  105.436690\n",
      "7   6.217957   48.662988\n",
      "8   3.771183   24.221820\n",
      "9   2.705410   17.319244\n",
      "10  2.118136   14.486501\n",
      "11  6.748596   55.543555\n",
      "\n",
      "\n",
      "Test Data Set\n",
      "           x          y\n",
      "0  3.262867  20.646301\n",
      "1 -1.283865  11.648310\n",
      "2  2.776531  17.709125\n",
      "3  6.855945  57.003980\n",
      "4  0.189901  10.036062\n"
     ]
    }
   ],
   "source": [
    "import numpy as np\n",
    "import pandas as pd\n",
    "from IPython.display import display,Latex\n",
    "\n",
    "#Define our target function, general regression equation, and arrays for building the data sets#\n",
    "def target(x):\n",
    "    return np.square(x) + 10\n",
    "\n",
    "def sum_square_error(w,y):\n",
    "    return np.square(w-y)\n",
    "\n",
    "j = 12\n",
    "test_j = 5\n",
    "x_train = np.zeros(shape = (j,3))\n",
    "y_train = np.zeros(shape = (j,1))\n",
    "\n",
    "#Developing the training set#\n",
    "np.random.seed(123)\n",
    "get_uniform_values = np.random.uniform(-2,10,j)\n",
    "\n",
    "for row in range(0,j):\n",
    "    x_train[row] = (1,get_uniform_values[row],np.square(get_uniform_values[row]))\n",
    "\n",
    "y_train = target(x_train[:,1])\n",
    "\n",
    "#Developing the test set and ensuring it shares no points with the training set#\n",
    "x_test = np.zeros(shape = (test_j,3))\n",
    "get_uniform_values = np.random.uniform(-2,10,test_j)\n",
    "\n",
    "for row in range(0,test_j):\n",
    "    x_test[row] = (1,get_uniform_values[row],np.square(get_uniform_values[row]))\n",
    "    check_for_common_values = np.isin(x_test,x_train[:,1])\n",
    "    while check_for_common_values is True:\n",
    "        get_uniform_values = np.random.uniform(-2,10,test_j)\n",
    "        x_test[row] = (1,get_uniform_values[row],np.square(get_uniform_values[row]))\n",
    "\n",
    "y_test = target(x_test[:,1])\n",
    "\n",
    "x_train_display = np.column_stack((x_train[:,1],y_train))\n",
    "train_df = pd.DataFrame(x_train_display,columns = ['x','y'])\n",
    "print(\"Part a. \\n\\nTraining Data Set\\n\", train_df)\n",
    "\n",
    "x_test_display = np.column_stack((x_test[:,1],y_test))\n",
    "test_df = pd.DataFrame(x_test_display,columns = ['x','y'])\n",
    "print(\"\\n\\nTest Data Set\\n\", test_df)"
   ]
  },
  {
   "cell_type": "code",
   "execution_count": 8,
   "metadata": {},
   "outputs": [
    {
     "name": "stdout",
     "output_type": "stream",
     "text": [
      "Part b. \n",
      " Quadratic Regression Equation is roughly: \n"
     ]
    },
    {
     "data": {
      "text/latex": [
       "$\\hat{y}=10x_0+0x_1+1x_1^2$"
      ],
      "text/plain": [
       "<IPython.core.display.Latex object>"
      ]
     },
     "metadata": {},
     "output_type": "display_data"
    },
    {
     "name": "stdout",
     "output_type": "stream",
     "text": [
      "Training Error for Quadratic Regression:  9.090307164496792e-28\n",
      "Test Error for Quadratic Regression:  5.086575116865085e-28\n"
     ]
    }
   ],
   "source": [
    "#Get the weights for our quadratic regression#\n",
    "x_train_inv = np.linalg.pinv(x_train)\n",
    "weights = np.matmul(x_train_inv,y_train)\n",
    "\n",
    "#Compute the errors over our data sets#\n",
    "weighted_average_train = weighted_average_test = error_train = error_test = 0\n",
    "\n",
    "for row in range(0,j):\n",
    "    weighted_average_train = np.dot(weights,x_train[row])\n",
    "    error_train += sum_square_error(weighted_average_train,y_train[row])\n",
    "\n",
    "for row in range(0,test_j):\n",
    "    weighted_average_test = np.dot(weights,x_test[row])\n",
    "    error_test += sum_square_error(weighted_average_test,y_test[row])\n",
    "\n",
    "error_train *= (1/j)\n",
    "error_test *= (1/test_j)\n",
    "print(\"Part b. \\n Quadratic Regression Equation is roughly: \" )\n",
    "display(Latex(\"$\\hat{y}=10x_0+0x_1+1x_1^2$\"))\n",
    "print(\"Training Error for Quadratic Regression: \", error_train)\n",
    "print(\"Test Error for Quadratic Regression: \", error_test)"
   ]
  },
  {
   "cell_type": "code",
   "execution_count": 9,
   "metadata": {},
   "outputs": [
    {
     "name": "stdout",
     "output_type": "stream",
     "text": [
      "Part c. \n",
      "Cross-Validation Errors obtained during ridge regression\n",
      "\n",
      "    lambda  Cross-Validation Error\n",
      "0     0.1               60.763396\n",
      "1     1.0              257.761536\n",
      "2    10.0             2227.742939\n",
      "3   100.0            21927.556972 \n",
      "\n",
      " Cross-Validation Errors obtained during lasso regression\n",
      "\n",
      "   lambda  Cross-Validation Error\n",
      "0     0.1               40.779563\n",
      "1     1.0               57.923206\n",
      "2    10.0              229.359641\n",
      "3   100.0             1943.723994\n",
      "\n",
      "Part d. \n",
      "I chose this Cross-Validation Error for Ridge Regression:  60.76339570283858\n",
      "I chose this Cross-Validation Error for Lasso Regression:  40.77956272511449\n"
     ]
    }
   ],
   "source": [
    "#####Compute the linear regresssion using ridge regression#####\n",
    "def ridge_penalty(lam,w):\n",
    "    return lam * np.sum(np.square(w))\n",
    "\n",
    "#Bring x_train back down to linear terms and construct lambda to hold the penalty#\n",
    "#and its associated cross validation error#\n",
    "x_train = np.delete(x_train,2,1)\n",
    "lam_ridge = np.array([[0.1,0],[1,0],[10,0],[100,0]])\n",
    "lam_lasso = np.array([[0.1,0],[1,0],[10,0],[100,0]])\n",
    "\n",
    "#Test each lambda on each of the cross_validation sets#\n",
    "for penalty in range(0,len(lam_ridge)):\n",
    "    error_cross_validate = error_train_ridge = error_test_ridge = 0\n",
    "#Construct each cross validation set to test lambda on#\n",
    "    k_fold = 0\n",
    "    while k_fold <= 8:\n",
    "        x_cross_validate = np.delete(x_train,slice(k_fold,k_fold+4),0)\n",
    "        y_cross_validate = np.delete(y_train,slice(k_fold,k_fold+4),0)\n",
    "        x_train_inv = np.linalg.pinv(x_cross_validate)\n",
    "        weights = np.matmul(x_train_inv,y_cross_validate)\n",
    "        \n",
    "#Calculate the training error on each validation set#\n",
    "        for row in range(0,len(x_cross_validate)):\n",
    "            weighted_average_train = np.dot(weights,x_cross_validate[row])\n",
    "            error_train_ridge += sum_square_error(weighted_average_train, y_cross_validate[row])\n",
    "            \n",
    "#Calculate the mean square error of the cross validation set#            \n",
    "        error_train_ridge *= (1/len(x_cross_validate))\n",
    "#Add the penalty to our training error#\n",
    "        error_train_ridge += ridge_penalty(lam_ridge[penalty][0],weights)\n",
    "#Add the new training error to our cross validation error#\n",
    "        error_cross_validate += error_train_ridge\n",
    "        \n",
    "        k_fold += 4\n",
    "#Take the average of the training errors and record as cross validation error#\n",
    "    error_cross_validate *= (1/3)\n",
    "#Store the cross validation error in the lambda array from above#\n",
    "    lam_ridge[penalty][1] = error_cross_validate\n",
    "\n",
    "#Determine which lambda gave us the best cross validation error#\n",
    "error_cross_validate_ridge = np.delete(lam_ridge,0,1)\n",
    "lambda_optimal = np.argmin(error_cross_validate_ridge)\n",
    "\n",
    "#Validate our chosen model on the entire training set#\n",
    "x_train_inv = np.linalg.pinv(x_train)\n",
    "weights = np.matmul(x_train_inv,y_train)\n",
    "\n",
    "for row in range(0,j):\n",
    "    weighted_average_train = np.dot(weights,x_train[row])\n",
    "    error_train_ridge += sum_square_error(weighted_average_train, y_train[row])\n",
    "\n",
    "error_train_ridge *= (1/j)\n",
    "error_train_ridge += ridge_penalty(lam_ridge[lambda_optimal][0],weights)\n",
    "lambda_ridge_df = pd.DataFrame(lam_ridge,columns = ['lambda','Cross-Validation Error'])\n",
    "print(\"Part c. \\nCross-Validation Errors obtained during ridge regression\\n\\n\",lambda_ridge_df, \"\\n\\n Cross-Validation Errors obtained during lasso regression\\n\")\n",
    "\n",
    "#Calculate the error on the test set#\n",
    "x_test = np.delete(x_test,2,1)\n",
    "for row in range(0,test_j):\n",
    "    weighted_average_test = np.dot(weights,x_test[row])\n",
    "    error_test_ridge += sum_square_error(weighted_average_test,y_test[row])\n",
    "\n",
    "error_test_ridge *= (1/test_j)\n",
    "error_test_ridge += ridge_penalty(lam_ridge[lambda_optimal][0],weights)\n",
    "\n",
    "#####Compute Lasso Regression#####\n",
    "def lasso_penalty(lam,w):\n",
    "    return lam * np.sum(np.abs(w))\n",
    "\n",
    "for penalty in range(0,len(lam_lasso)):\n",
    "    error_cross_validate = error_train_lasso = error_test_lasso = 0\n",
    "#Construct each cross validation set to test lambda on#\n",
    "    k_fold = 0\n",
    "    while k_fold <= 8:\n",
    "        x_cross_validate = np.delete(x_train,slice(k_fold,k_fold+4),0)\n",
    "        y_cross_validate = np.delete(y_train,slice(k_fold,k_fold+4),0)\n",
    "        x_train_inv = np.linalg.pinv(x_cross_validate)\n",
    "        weights = np.matmul(x_train_inv,y_cross_validate)\n",
    "        \n",
    "#Calculate the training error on each validation set#\n",
    "        for row in range(0,len(x_cross_validate)):\n",
    "            weighted_average_train = np.dot(weights,x_cross_validate[row])\n",
    "            error_train_lasso += sum_square_error(weighted_average_train, y_cross_validate[row])\n",
    "            \n",
    "#Calculate the mean square error of the cross validation set#            \n",
    "        error_train_lasso *= (1/len(x_cross_validate))\n",
    "#Add the penalty to our training error#\n",
    "        error_train_lasso += lasso_penalty(lam_lasso[penalty][0],weights)\n",
    "#Add the new training error to our cross validation error#\n",
    "        error_cross_validate += error_train_lasso\n",
    "        \n",
    "        k_fold += 4\n",
    "#Take the average of the training errors and record as cross validation error#\n",
    "    error_cross_validate *= (1/3)\n",
    "#Store the cross validation error in the lambda array from above#\n",
    "    lam_lasso[penalty][1] = error_cross_validate\n",
    "\n",
    "#Determine which lambda gave us the best cross validation error#\n",
    "error_cross_validate_ridge = np.delete(lam_lasso,0,1)\n",
    "lambda_optimal = np.argmin(error_cross_validate_ridge)\n",
    "\n",
    "del error_cross_validate_ridge, penalty, k_fold, row    \n",
    "\n",
    "#Validate our chosen model on the entire training set#\n",
    "x_train_inv = np.linalg.pinv(x_train)\n",
    "weights = np.matmul(x_train_inv,y_train)\n",
    "\n",
    "for row in range(0,j):\n",
    "    weighted_average_train = np.dot(weights,x_train[row])\n",
    "    error_train_lasso += sum_square_error(weighted_average_train, y_train[row])\n",
    "\n",
    "error_train_lasso *= (1/j)\n",
    "error_train_lasso += lasso_penalty(lam_lasso[lambda_optimal][0],weights)\n",
    "lambda_lasso_df = pd.DataFrame(lam_lasso,columns = ['lambda','Cross-Validation Error'])\n",
    "print(lambda_lasso_df)\n",
    "\n",
    "#Calculate the error on the test set#\n",
    "for row in range(0,test_j):\n",
    "    weighted_average_test = np.dot(weights,x_test[row])\n",
    "    error_test_lasso += sum_square_error(weighted_average_test,y_test[row])\n",
    "\n",
    "error_test_lasso *= (1/test_j)\n",
    "error_test_lasso += lasso_penalty(lam_lasso[lambda_optimal][0],weights)\n",
    "\n",
    "print(\"\\nPart d. \\nI chose this Cross-Validation Error for Ridge Regression: \", lam_ridge[lambda_optimal][1])\n",
    "print(\"I chose this Cross-Validation Error for Lasso Regression: \", lam_lasso[lambda_optimal][1])"
   ]
  },
  {
   "cell_type": "code",
   "execution_count": 10,
   "metadata": {},
   "outputs": [
    {
     "name": "stdout",
     "output_type": "stream",
     "text": [
      "Part e.\n",
      "\n",
      "Ridge Regression\n",
      "Linear Ridge Regression Equation is roughly:\n"
     ]
    },
    {
     "data": {
      "text/latex": [
       "$$E_{ridge}=\\sum_{j=1}^n(-7.818x_{0j}+9.918x_{1j}-y_j)^2+0.1((-7.818)^2+9.918^2)$$"
      ],
      "text/plain": [
       "<IPython.core.display.Latex object>"
      ]
     },
     "metadata": {},
     "output_type": "display_data"
    },
    {
     "name": "stdout",
     "output_type": "stream",
     "text": [
      "\n",
      "Training Error for Ridge Regression:  1381.5759089148248\n",
      "Test Error for Ridge Regression 280.1782039354006\n",
      "\n",
      "\n",
      "Lasso Regression\n",
      "Linear Lasso Regression Equatin is roughly: \n"
     ]
    },
    {
     "data": {
      "text/latex": [
       "$$E_{lasso}=\\sum_{j=1}^n(-7.818x_{0j}+9.918x_{1j}-y_j)^2+0.1(|-7.818|+|9.918|)$$"
      ],
      "text/plain": [
       "<IPython.core.display.Latex object>"
      ]
     },
     "metadata": {},
     "output_type": "display_data"
    },
    {
     "name": "stdout",
     "output_type": "stream",
     "text": [
      "Training Error for Lasso Regression:  207.50080013508762\n",
      "Test Error for Lasso Regression 266.0036661747493\n"
     ]
    }
   ],
   "source": [
    "print(\"Part e.\\n\\nRidge Regression\\nLinear Ridge Regression Equation is roughly:\")\n",
    "display(Latex(\"$$E_{ridge}=\\sum_{j=1}^n(-7.818x_{0j}+9.918x_{1j}-y_j)^2+0.1((-7.818)^2+9.918^2)$$\"))\n",
    "print(\"\\nTraining Error for Ridge Regression: \", error_train_ridge)\n",
    "print(\"Test Error for Ridge Regression\", error_test_ridge)\n",
    "print(\"\\n\\nLasso Regression\\nLinear Lasso Regression Equatin is roughly: \")\n",
    "display(Latex(\"$$E_{lasso}=\\sum_{j=1}^n(-7.818x_{0j}+9.918x_{1j}-y_j)^2+0.1(|-7.818|+|9.918|)$$\"))\n",
    "print(\"Training Error for Lasso Regression: \", error_train_lasso)\n",
    "print(\"Test Error for Lasso Regression\", error_test_lasso)"
   ]
  },
  {
   "cell_type": "markdown",
   "metadata": {},
   "source": [
    "---------------------------------------------------------------------\n",
    "Part f. I did obtain $\\lambda=0.1$ analytically. I used the code to compute $$\\lambda^*=\\text{argmin}_\\lambda\\left(\\dfrac{1}{k}\\sum_{i=1}^kloss(g^{(D_k)},y)\\right)$$"
   ]
  },
  {
   "cell_type": "code",
   "execution_count": 11,
   "metadata": {},
   "outputs": [
    {
     "name": "stdout",
     "output_type": "stream",
     "text": [
      "Part g.\n",
      "\n",
      "                  Cross-Validation Error  Testing Error  Training Error\n",
      "Ridge Regression               60.763396     280.178204     1381.575909 \n",
      "\n",
      "                   Cross-Validation Error  Training Error  Testing Error\n",
      "Lasso Regression               40.779563        207.5008     266.003666\n"
     ]
    }
   ],
   "source": [
    "final_errors_ridge = np.array([lam_ridge[0][1],error_test_ridge,error_train_ridge])\n",
    "final_errors_lasso = np.array([lam_lasso[0][1],error_train_lasso,error_test_lasso])\n",
    "\n",
    "final_errors_ridge_df = pd.DataFrame([final_errors_ridge],columns = ['Cross-Validation Error','Testing Error','Training Error'],index = ['Ridge Regression'])\n",
    "final_errors_lasso_df = pd.DataFrame([final_errors_lasso],columns = ['Cross-Validation Error','Training Error','Testing Error'],index = ['Lasso Regression'])\n",
    "print(\"Part g.\\n\")\n",
    "print(final_errors_ridge_df,\"\\n\\n\",final_errors_lasso_df)"
   ]
  },
  {
   "cell_type": "code",
   "execution_count": 12,
   "metadata": {},
   "outputs": [
    {
     "data": {
      "text/plain": [
       "<matplotlib.legend.Legend at 0x11465cc90>"
      ]
     },
     "execution_count": 12,
     "metadata": {},
     "output_type": "execute_result"
    },
    {
     "data": {
      "image/png": "[encoded data removed]",
      "text/plain": [
       "<Figure size 432x288 with 1 Axes>"
      ]
     },
     "metadata": {
      "needs_background": "light"
     },
     "output_type": "display_data"
    }
   ],
   "source": [
    "import matplotlib.pyplot as plt\n",
    "\n",
    "def ridge_plot(x):\n",
    "    return 4.22+8.85*x+15.949\n",
    "def lasso_plot(x):\n",
    "    return 4.22+8.85*x+1.774\n",
    "\n",
    "x_vals = np.concatenate((x_train[:,1],x_test[:,1]))\n",
    "y_vals = np.concatenate((y_train,y_test))\n",
    "plt.scatter(x_vals,y_vals,color = \"black\")\n",
    "x_vals = np.sort(x_vals)\n",
    "target, = plt.plot(x_vals,target(x_vals))\n",
    "ridge, = plt.plot(x_vals,ridge_plot(x_vals))\n",
    "lasso, = plt.plot(x_vals,lasso_plot(x_vals))\n",
    "\n",
    "plt.legend((target,ridge,lasso),('Quadratic Regression','Ridge Regression','Lasso Regression'))"
   ]
  },
  {
   "cell_type": "code",
   "execution_count": null,
   "metadata": {},
   "outputs": [],
   "source": []
  }
 ],
 "metadata": {
  "kernelspec": {
   "display_name": "Python 3",
   "language": "python",
   "name": "python3"
  },
  "language_info": {
   "codemirror_mode": {
    "name": "ipython",
    "version": 3
   },
   "file_extension": ".py",
   "mimetype": "text/x-python",
   "name": "python",
   "nbconvert_exporter": "python",
   "pygments_lexer": "ipython3",
   "version": "3.7.4"
  }
 },
 "nbformat": 4,
 "nbformat_minor": 4
}
